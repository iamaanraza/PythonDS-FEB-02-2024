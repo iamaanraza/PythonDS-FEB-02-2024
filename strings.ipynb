{
 "cells": [
  {
   "cell_type": "markdown",
   "metadata": {},
   "source": [
    "String\n",
    "- create \n",
    "- Indexing & access\n",
    "- slicing\n",
    "- most usefull methods \n"
   ]
  },
  {
   "cell_type": "code",
   "execution_count": 1,
   "metadata": {},
   "outputs": [],
   "source": [
    "a = 'apple' # single quotes \n",
    "b = \"apple juice\" # double quotes\n",
    "c = '''this in   \n",
    "an example''' # triple quotes mein multi lines strings likhte hain .\n"
   ]
  },
  {
   "cell_type": "markdown",
   "metadata": {},
   "source": [
    "- string is immutable .\n",
    "- string is iterable . \n",
    "- string is indexed.\n",
    "# iterables :\n",
    "- items within iteams ."
   ]
  },
  {
   "cell_type": "code",
   "execution_count": 6,
   "metadata": {},
   "outputs": [
    {
     "name": "stdout",
     "output_type": "stream",
     "text": [
      "a e\n",
      "p l\n",
      "p p\n",
      "l p\n",
      "e a\n"
     ]
    }
   ],
   "source": [
    "print(a[0],a[-1])\n",
    "print(a[1],a[-2])\n",
    "print(a[2],a[-3])\n",
    "print(a[3],a[-4])\n",
    "print(a[4],a[-5])"
   ]
  },
  {
   "cell_type": "markdown",
   "metadata": {},
   "source": [
    "Slicing\n",
    "`str[start:stop:step]`"
   ]
  },
  {
   "cell_type": "code",
   "execution_count": 22,
   "metadata": {},
   "outputs": [
    {
     "name": "stdout",
     "output_type": "stream",
     "text": [
      "vijay\n",
      "deenanath\n",
      "chauhan\n",
      "chauhan\n",
      "vijay\n",
      "chauhan\n",
      "chauhan\n",
      "vjydeaah\n",
      "vjydeaahcahn\n",
      "nahuahc htananeed yajiv\n"
     ]
    }
   ],
   "source": [
    "name = \"vijay deenanath chauhan\"\n",
    "print(name[0:5])\n",
    "print(name[6:15])\n",
    "print(name[16:23])\n",
    "print(name[16:23])\n",
    "print(name[:5])\n",
    "print(name[-7:])\n",
    "print(name[-7:])\n",
    "print(name[:15:2]) # jump kar raha hai 2 letters \n",
    "print(name[::2]) # start to end with step 2 gap\n",
    "print(name[::-1]) # reverse"
   ]
  },
  {
   "cell_type": "code",
   "execution_count": 23,
   "metadata": {},
   "outputs": [
    {
     "data": {
      "text/plain": [
       "'nahua'"
      ]
     },
     "execution_count": 23,
     "metadata": {},
     "output_type": "execute_result"
    }
   ],
   "source": [
    "name[:][::-1][:5]"
   ]
  },
  {
   "cell_type": "code",
   "execution_count": 27,
   "metadata": {},
   "outputs": [
    {
     "data": {
      "text/plain": [
       "'BruceWayne'"
      ]
     },
     "execution_count": 27,
     "metadata": {},
     "output_type": "execute_result"
    }
   ],
   "source": [
    "fname = \"Bruce\"\n",
    "lname = \"Wayne\"\n",
    "fname + lname # concatenation (jodna)"
   ]
  },
  {
   "cell_type": "code",
   "execution_count": 31,
   "metadata": {},
   "outputs": [
    {
     "data": {
      "text/plain": [
       "'Bruce'"
      ]
     },
     "execution_count": 31,
     "metadata": {},
     "output_type": "execute_result"
    }
   ],
   "source": [
    "f\"{fname}\""
   ]
  },
  {
   "cell_type": "code",
   "execution_count": 28,
   "metadata": {},
   "outputs": [
    {
     "data": {
      "text/plain": [
       "'☠️☠️☠️☠️☠️☠️☠️☠️☠️☠️'"
      ]
     },
     "execution_count": 28,
     "metadata": {},
     "output_type": "execute_result"
    }
   ],
   "source": [
    "\"☠️\"*10 # repetation"
   ]
  },
  {
   "cell_type": "markdown",
   "metadata": {},
   "source": [
    "string methods "
   ]
  },
  {
   "cell_type": "code",
   "execution_count": 35,
   "metadata": {},
   "outputs": [
    {
     "name": "stdout",
     "output_type": "stream",
     "text": [
      "Apple\n",
      "apple\n"
     ]
    }
   ],
   "source": [
    "print(a.capitalize())\n",
    "print(a.casefold())"
   ]
  },
  {
   "cell_type": "markdown",
   "metadata": {},
   "source": [
    "find and replace"
   ]
  },
  {
   "cell_type": "code",
   "execution_count": 40,
   "metadata": {},
   "outputs": [
    {
     "name": "stdout",
     "output_type": "stream",
     "text": [
      "-1\n",
      "13\n",
      "5\n",
      "queen went up to the hill\n",
      "king went up to the ocean\n",
      "queen went up to the Ocean\n"
     ]
    }
   ],
   "source": [
    "sentence = \"king went up to the hill\"\n",
    "print(sentence.find('bheem')) # -1 if not found \n",
    "print(sentence.find('to'))\n",
    "print(sentence.find('went'))\n",
    "\n",
    "print(sentence.replace('king','queen'))\n",
    "print(sentence.replace('hill','ocean'))\n",
    "sentence2 = sentence.replace('king','queen').replace('hill','Ocean')\n",
    "print(sentence2)"
   ]
  },
  {
   "cell_type": "code",
   "execution_count": 41,
   "metadata": {},
   "outputs": [
    {
     "data": {
      "text/plain": [
       "'kig wet up to the hill'"
      ]
     },
     "execution_count": 41,
     "metadata": {},
     "output_type": "execute_result"
    }
   ],
   "source": [
    "sentence.replace('n','')"
   ]
  },
  {
   "cell_type": "code",
   "execution_count": 42,
   "metadata": {},
   "outputs": [
    {
     "data": {
      "text/plain": [
       "['king', 'went', 'up', 'to', 'the', 'hill']"
      ]
     },
     "execution_count": 42,
     "metadata": {},
     "output_type": "execute_result"
    }
   ],
   "source": [
    "sentence.split()"
   ]
  },
  {
   "cell_type": "code",
   "execution_count": 43,
   "metadata": {},
   "outputs": [
    {
     "data": {
      "text/plain": [
       "['apple ', ' banana ', ' orange ', ' mango']"
      ]
     },
     "execution_count": 43,
     "metadata": {},
     "output_type": "execute_result"
    }
   ],
   "source": [
    "s3 = 'apple , banana , orange , mango'\n",
    "s3.split(',')"
   ]
  },
  {
   "cell_type": "code",
   "execution_count": 44,
   "metadata": {},
   "outputs": [
    {
     "name": "stdout",
     "output_type": "stream",
     "text": [
      "['', 'twinkle twinkle little star ,', 'how i wonder what you are , ', 'up above the world so high ,', 'like a diamond in the sky .']\n",
      "['twinkle', 'twinkle', 'little', 'star', ',', 'how', 'i', 'wonder', 'what', 'you', 'are', ',', 'up', 'above', 'the', 'world', 'so', 'high', ',', 'like', 'a', 'diamond', 'in', 'the', 'sky', '.']\n",
      "['\\ntwinkle twinkle little star ', '\\nhow i wonder what you are ', ' \\nup above the world so high ', '\\nlike a diamond in the sky .\\n']\n"
     ]
    }
   ],
   "source": [
    "poem = '''\n",
    "twinkle twinkle little star ,\n",
    "how i wonder what you are , \n",
    "up above the world so high ,\n",
    "like a diamond in the sky .\n",
    "'''\n",
    "print(poem.splitlines()) # better than split ('\\n)\n",
    "print(poem.split())\n",
    "print(poem.split(','))"
   ]
  },
  {
   "cell_type": "code",
   "execution_count": 49,
   "metadata": {},
   "outputs": [
    {
     "name": "stdout",
     "output_type": "stream",
     "text": [
      "C:/Users/user/Documents\n",
      "C:,Users,user,Documents\n",
      "C:^Users^user^Documents\n",
      "C:😁Users😁user😁Documents\n"
     ]
    }
   ],
   "source": [
    "path = [\"C:\",'Users','user','Documents']\n",
    "\n",
    "print(\"/\".join(path))\n",
    "print(\",\".join(path))\n",
    "print(\"^\".join(path))\n",
    "print(\"😁\".join(path))\n"
   ]
  },
  {
   "cell_type": "code",
   "execution_count": null,
   "metadata": {},
   "outputs": [],
   "source": []
  }
 ],
 "metadata": {
  "kernelspec": {
   "display_name": "Python 3",
   "language": "python",
   "name": "python3"
  },
  "language_info": {
   "codemirror_mode": {
    "name": "ipython",
    "version": 3
   },
   "file_extension": ".py",
   "mimetype": "text/x-python",
   "name": "python",
   "nbconvert_exporter": "python",
   "pygments_lexer": "ipython3",
   "version": "3.9.13"
  }
 },
 "nbformat": 4,
 "nbformat_minor": 2
}
